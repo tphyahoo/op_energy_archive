{
 "cells": [
  {
   "cell_type": "markdown",
   "metadata": {},
   "source": [
    "### BTC OP_ENERGY\n",
    "####    &nbsp;  OE Skunk Works    &nbsp;  &nbsp;       13mar21        -dbb"
   ]
  },
  {
   "cell_type": "code",
   "execution_count": 1,
   "metadata": {},
   "outputs": [],
   "source": [
    "import psycopg2 as pg\n",
    "import pandas.io.sql as psql\n",
    "\n",
    "conn  = pg.connect(\"dbname=btc_hist\")\n",
    "curs = conn.cursor()"
   ]
  },
  {
   "cell_type": "code",
   "execution_count": 2,
   "metadata": {},
   "outputs": [],
   "source": [
    "tSQL = '''\n",
    "SELECT   blkheight, median_time, chain_reward, chainwork_hex\n",
    " FROM    data_chain   ORDER BY  blkheight\n",
    "'''\n",
    "\n",
    "res0 = curs.execute( tSQL )\n",
    "rData = curs.fetchall()"
   ]
  },
  {
   "cell_type": "code",
   "execution_count": 17,
   "metadata": {},
   "outputs": [],
   "source": [
    "divmod? # divmod(x, y, /)  Return the tuple (x//y, x%y).  Invariant: div*y + mod == x."
   ]
  },
  {
   "cell_type": "markdown",
   "metadata": {},
   "source": [
    "      blkheight, median_time, chain_reward, chainwork_hex\n",
    "    [ type(e) for e in rData[0] ]  =>  [int, int, int, str]\n",
    "\n",
    "    btc_hist=# \\d data_chain\n",
    "                      Table \"public.data_chain\"\n",
    "         Column      |       Type     \n",
    "    -----------------+------------------\n",
    "     blkheight       | integer     \n",
    "     blkhash         | text             \n",
    "     bits_hex        | text              \n",
    "     difficulty      | double precision \n",
    "     chainwork_hex   | text             \n",
    "     median_time     | bigint           \n",
    "     chain_reward    | bigint           \n",
    "     time_str        | text              \n",
    "     median_time_str | text              \n"
   ]
  },
  {
   "cell_type": "code",
   "execution_count": 3,
   "metadata": {},
   "outputs": [],
   "source": [
    "def unpack_exp(x):\n",
    "  return 8*(x - 3)\n",
    "\n",
    "def expand_cbits(x):\n",
    "    \n",
    "    bits_hex = int( x, 16)\n",
    "    reg_difficulty  = bits_hex & 0x007FFFFF\n",
    "    reg_exp_enc = (bits_hex & 0xFF000000) >> 24\n",
    "    \n",
    "    exp_const = 1 * 2**unpack_exp(reg_exp_enc)\n",
    "    exp_var = reg_difficulty * 2**unpack_exp(reg_exp_enc)\n",
    "    bCnt = (exp_var.bit_length() +7)/8\n",
    "    \n",
    "    #print( 'bits_hex,reg_difficulty,reg_exp_enc,exp_const,exp_var,bCnt' )\n",
    "    #print( hex(bits_hex), hex(reg_difficulty),bCnt )\n",
    "    #print( hex(reg_exp_enc), hex(exp_const) )\n",
    "    #print('  ',hex(exp_var))\n",
    "    \n",
    "    return exp_var\n",
    "    \n"
   ]
  },
  {
   "cell_type": "code",
   "execution_count": 34,
   "metadata": {},
   "outputs": [],
   "source": [
    "def compact2_cbits(in_str):\n",
    "    if isinstance(in_str, str):\n",
    "        if in_str[0:2] == '0x':\n",
    "            res = int( in_str, base=16)\n",
    "        else:\n",
    "            res = int( in_str)\n",
    "    elif isinstance( in_str, int):\n",
    "        res = in_str\n",
    "    else:\n",
    "        return 0\n",
    "    \n",
    "    cnt  = 1\n",
    "    res2 = res\n",
    "    while True:\n",
    "        cnt = cnt + 1\n",
    "        res2,elem = divmod(res2,0x100)\n",
    "        if res2 < 0x100: \n",
    "            break\n",
    "\n",
    "    ## test for high bit, and shift here   \n",
    "    if res2 > 127:\n",
    "        cnt = cnt + 1\n",
    "            \n",
    "    res2  = res >> ((cnt-3)*8)\n",
    "    res2b = res2 & 0x007FFFFF\n",
    "    #print( hex(res2), hex(res2b) )\n",
    "    cnt2 = cnt << 24\n",
    "    #print( hex(cnt2) )\n",
    "    return (hex(cnt2 | res2))\n",
    "\n",
    "\n",
    "def compact_cbits(in_str):\n",
    "    res  = int( in_str, base=16)\n",
    "    res2 = res\n",
    "    cnt  = 1\n",
    "    while True:\n",
    "        cnt = cnt + 1\n",
    "        res2 = int(res2 / 0x100)\n",
    "        if res2 < 0x10: \n",
    "            break\n",
    "\n",
    "    res2  = res >> ((cnt-3)*8)\n",
    "    res2b = res2 & 0x007FFFFF\n",
    "    #print( hex(res2), hex(res2b) )\n",
    "    cnt2 = cnt << 24\n",
    "    #print( hex(cnt2) )\n",
    "    return (hex(cnt2 | res2))\n"
   ]
  },
  {
   "cell_type": "code",
   "execution_count": 18,
   "metadata": {},
   "outputs": [],
   "source": [
    "tEpoch = 302 * 2016\n",
    "blk0    = rData[ tEpoch ]\n",
    "blk01   = rData[ tEpoch+144 ]"
   ]
  },
  {
   "cell_type": "code",
   "execution_count": 22,
   "metadata": {},
   "outputs": [
    {
     "name": "stdout",
     "output_type": "stream",
     "text": [
      "hash_cnt      =  0x69fde0cadff04450a1e20\n",
      "expected_secs =  86400\n",
      "actual_secs   =  81035\n",
      "sats          =  0x2a82c83a7f\n",
      "-\n",
      "price_prime  =  46766282572136  =  0x2a889fa90168\n",
      "cBITS(price_prime) =  0x7002a88\n"
     ]
    }
   ],
   "source": [
    "hash_cnt      = int( blk01[3],base=16) - int( blk0[3],base=16)\n",
    "expected_secs = 600 * ( blk01[0] - blk0[0] )\n",
    "actual_secs   = blk01[1] - blk0[1]\n",
    "sats          = blk01[2] - blk0[2]\n",
    "\n",
    "# price_prime  = (hash_cnt * expected_secs)/(actual_secs*sats)\n",
    "# price_prime_int = int(price_prime)\n",
    "## 22mar21  - use DIVMOD() builtin for python\n",
    "price_prime,elem  = divmod( (hash_cnt * expected_secs),(actual_secs*sats) )\n",
    "\n",
    "print('hash_cnt      = ',hex(hash_cnt))\n",
    "print('expected_secs = ',expected_secs)\n",
    "print('actual_secs   = ',actual_secs)\n",
    "print('sats          = ',hex(sats))\n",
    "print('-')\n",
    "print('price_prime  = ',price_prime,' = ',hex(price_prime))\n",
    "#print('price_prime_int = ', price_prime_int, '   ',str(hex(price_prime_int) ))\n",
    "print('cBITS(price_prime) = ', str(compact_cbits(str(hex( price_prime ) ))))"
   ]
  },
  {
   "cell_type": "code",
   "execution_count": 23,
   "metadata": {},
   "outputs": [],
   "source": [
    "tEpoch = 120 * 2016\n",
    "blk0    = rData[ tEpoch ]\n",
    "blk01   = rData[ tEpoch+1 ]"
   ]
  },
  {
   "cell_type": "markdown",
   "metadata": {},
   "source": [
    "      blkheight median_time    chain_reward      chainwork_hex\n",
    "    ( 241921,  1371417533,  1131625885833039, '0x52e4d969fee4dd57fa')\n",
    "    ( 241922,  1371417786,  1131628392433133, '0x52e600832043b9d907')\n",
    "    \n",
    "    compact_cbits( blk0[3])     =>  '0x952e4d9'\n",
    "    compact_cbits( blk01[3])    =>  '0x952e600'"
   ]
  },
  {
   "cell_type": "code",
   "execution_count": 24,
   "metadata": {},
   "outputs": [
    {
     "name": "stdout",
     "output_type": "stream",
     "text": [
      "hash_cnt      =  0x12719215edc810d\n",
      "expected_secs =  600\n",
      "actual_secs   =  253\n",
      "sats          =  0x9567ae9e\n",
      "-\n",
      "price_prime  =  78587229  =  0x4af255d\n",
      "cBITS(price_prime) =  0x404af25\n"
     ]
    }
   ],
   "source": [
    "hash_cnt      = int( blk01[3],base=16) - int( blk0[3],base=16)\n",
    "expected_secs = 600 * ( blk01[0] - blk0[0] )\n",
    "actual_secs   = blk01[1] - blk0[1]\n",
    "sats          = blk01[2] - blk0[2]\n",
    "\n",
    "# price_prime  = (hash_cnt * expected_secs)/(actual_secs*sats)\n",
    "# price_prime_int = int(price_prime)\n",
    "## 22mar21  - use DIVMOD() builtin for python\n",
    "price_prime,elem  = divmod( (hash_cnt * expected_secs),(actual_secs*sats) )\n",
    "\n",
    "print('hash_cnt      = ',hex(hash_cnt))\n",
    "print('expected_secs = ',expected_secs)\n",
    "print('actual_secs   = ',actual_secs)\n",
    "print('sats          = ',hex(sats))\n",
    "print('-')\n",
    "print('price_prime  = ',price_prime,' = ',hex(price_prime))\n",
    "#print('price_prime_int = ', price_prime_int, '   ',str(hex(price_prime_int) ))\n",
    "print('cBITS(price_prime) = ', str(compact_cbits(str(hex( price_prime ) ))))"
   ]
  },
  {
   "cell_type": "code",
   "execution_count": 10,
   "metadata": {},
   "outputs": [
    {
     "data": {
      "text/plain": [
       "'0xa0052e6'"
      ]
     },
     "execution_count": 10,
     "metadata": {},
     "output_type": "execute_result"
    }
   ],
   "source": [
    "compact_cbits( blk01[3])"
   ]
  },
  {
   "cell_type": "code",
   "execution_count": 11,
   "metadata": {},
   "outputs": [
    {
     "name": "stdout",
     "output_type": "stream",
     "text": [
      "78587136 0x4af2500\n"
     ]
    }
   ],
   "source": [
    "test_val = '0x404af25'\n",
    "res_t0 = expand_cbits( test_val)\n",
    "print(res_t0, hex(res_t0))"
   ]
  },
  {
   "cell_type": "code",
   "execution_count": 12,
   "metadata": {},
   "outputs": [
    {
     "name": "stdout",
     "output_type": "stream",
     "text": [
      "cbits_str      =  0x1a00de15\n",
      "res_exp        =  0xde150000000000000000000000000000000000000000000000\n",
      "res_cmpct      =  0x1a00de15\n"
     ]
    }
   ],
   "source": [
    "## -- chain 241924 : \n",
    "##    cBITS  0x1a00de15\n",
    "##    cwDiff 0x000000000000000000000000000000000000000000000000012719215edc810d\n",
    "##   cwTargetValue 0x00000000000000de150000000000000000000000000000000000000000000000\n",
    "##                               0xde150000000000000000000000000000000000000000000000\n",
    "\n",
    "## btc_hist=# select bits_hex from data_chain where blkheight = (2016*120);\n",
    "cbits_str = '0x1a00de15'\n",
    "res_exp = hex(expand_cbits( cbits_str ))\n",
    "res_cmpct = compact_cbits( str(res_exp) )\n",
    "\n",
    "print('cbits_str      = ',cbits_str)\n",
    "print('res_exp        = ',res_exp)\n",
    "print('res_cmpct      = ',res_cmpct)"
   ]
  },
  {
   "cell_type": "code",
   "execution_count": 13,
   "metadata": {},
   "outputs": [
    {
     "name": "stdout",
     "output_type": "stream",
     "text": [
      "cbits_str      =  0x1a0375fa\n",
      "res_exp        =  0x375fa0000000000000000000000000000000000000000000000\n",
      "res_cmpct      =  0x1a0375fa\n"
     ]
    }
   ],
   "source": [
    "## btc_hist=# select bits_hex from data_chain where blkheight = (2016*120);\n",
    "cbits_str = '0x1a0375fa'\n",
    "res_exp = hex(expand_cbits( cbits_str ))\n",
    "res_cmpct = compact_cbits( str(res_exp) )\n",
    "\n",
    "print('cbits_str      = ',cbits_str)\n",
    "print('res_exp        = ',res_exp)\n",
    "print('res_cmpct      = ',res_cmpct)"
   ]
  },
  {
   "cell_type": "code",
   "execution_count": 14,
   "metadata": {},
   "outputs": [
    {
     "name": "stdout",
     "output_type": "stream",
     "text": [
      "cbits_str      =  0x1800b0ed\n",
      "res_exp        =  0xb0ed000000000000000000000000000000000000000000\n",
      "res_cmpct      =  0x1800b0ed\n"
     ]
    }
   ],
   "source": [
    "## btc_hist=# select bits_hex from data_chain where blkheight = (2016*120);\n",
    "cbits_str = '0x1800b0ed'\n",
    "res_exp = hex(expand_cbits( cbits_str ))\n",
    "res_cmpct = compact_cbits( str(res_exp) )\n",
    "\n",
    "print('cbits_str      = ',cbits_str)\n",
    "print('res_exp        = ',res_exp)\n",
    "print('res_cmpct      = ',res_cmpct)"
   ]
  },
  {
   "cell_type": "code",
   "execution_count": 35,
   "metadata": {},
   "outputs": [
    {
     "name": "stdout",
     "output_type": "stream",
     "text": [
      "str res0 =  0x1a00de15\n",
      "str res1 =  0x1800b0ed\n",
      "str res2 =  0x1a0375fa\n"
     ]
    }
   ],
   "source": [
    "in_val_str = '0xde150000000000000000000000000000000000000000000000'\n",
    "res0 = compact2_cbits(in_val_str)\n",
    "print( 'str res0 = ',res0)\n",
    "\n",
    "in_val_str = '0xb0ed000000000000000000000000000000000000000000'\n",
    "res1 = compact2_cbits(in_val_str)\n",
    "print( 'str res1 = ',res1)\n",
    "\n",
    "in_val_str = '0x375fa0000000000000000000000000000000000000000000000'\n",
    "res2 = compact2_cbits(in_val_str)\n",
    "print( 'str res2 = ',res2)\n",
    "\n"
   ]
  },
  {
   "cell_type": "code",
   "execution_count": 29,
   "metadata": {},
   "outputs": [
    {
     "data": {
      "text/plain": [
       "'0'"
      ]
     },
     "execution_count": 29,
     "metadata": {},
     "output_type": "execute_result"
    }
   ],
   "source": [
    "in_val_str[0:1]"
   ]
  },
  {
   "cell_type": "code",
   "execution_count": 15,
   "metadata": {},
   "outputs": [
    {
     "data": {
      "text/plain": [
       "1529123342098259335162"
      ]
     },
     "execution_count": 15,
     "metadata": {},
     "output_type": "execute_result"
    }
   ],
   "source": [
    "int( '0x52e4d969fee4dd57fa', base=16)"
   ]
  },
  {
   "cell_type": "markdown",
   "metadata": {},
   "source": [
    "    0x13d39e98be678505f99a738d\n",
    "    \n",
    "    0x52e4d969fee4dc000\n",
    "    0x52e4d969fee4dc00\n",
    "    0x52e4d969fee4dc0\n",
    "    0x52e4d969fee4dc\n"
   ]
  },
  {
   "cell_type": "code",
   "execution_count": 16,
   "metadata": {},
   "outputs": [
    {
     "data": {
      "text/plain": [
       "'0x52e4d969fee4d'"
      ]
     },
     "execution_count": 16,
     "metadata": {},
     "output_type": "execute_result"
    }
   ],
   "source": [
    "hex( int(0x52e4d969fee4dc / 0x10) )"
   ]
  },
  {
   "cell_type": "code",
   "execution_count": null,
   "metadata": {},
   "outputs": [],
   "source": []
  }
 ],
 "metadata": {
  "kernelspec": {
   "display_name": "Python 3",
   "language": "python",
   "name": "python3"
  },
  "language_info": {
   "codemirror_mode": {
    "name": "ipython",
    "version": 3
   },
   "file_extension": ".py",
   "mimetype": "text/x-python",
   "name": "python",
   "nbconvert_exporter": "python",
   "pygments_lexer": "ipython3",
   "version": "3.6.9"
  }
 },
 "nbformat": 4,
 "nbformat_minor": 2
}
