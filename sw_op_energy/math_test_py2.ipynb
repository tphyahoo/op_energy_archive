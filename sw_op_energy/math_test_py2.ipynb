{
 "cells": [
  {
   "cell_type": "markdown",
   "metadata": {},
   "source": [
    "## Calculation Notes on Difficulty in BTC\n",
    "### Jupyter Notebook in Python 2  &nbsp; &nbsp;   nov20 -dbb\n",
    "\n",
    "\n",
    "update: clarify the use of TARGET and DIFFICULTY terminology"
   ]
  },
  {
   "cell_type": "code",
   "execution_count": 1,
   "metadata": {},
   "outputs": [
    {
     "data": {
      "text/plain": [
       "'2.7.17 (default, Jul 20 2020, 15:37:01) \\n[GCC 7.5.0]'"
      ]
     },
     "execution_count": 1,
     "metadata": {},
     "output_type": "execute_result"
    }
   ],
   "source": [
    "import os,sys\n",
    "\n",
    "sys.version"
   ]
  },
  {
   "cell_type": "code",
   "execution_count": 2,
   "metadata": {},
   "outputs": [],
   "source": [
    "# adapted from https://en.bitcoin.it/wiki/Difficulty#How_is_difficulty_calculated.3F_What_is_the_difference_between_bdiff_and_pdiff.3F\n",
    "#  notes added nov20  -dbb\n",
    "\n",
    "import decimal, math\n",
    "\n",
    "def unpack_exp(x):\n",
    "  return 8*(x - 3)"
   ]
  },
  {
   "cell_type": "markdown",
   "metadata": {},
   "source": [
    "  \n",
    "**Context**:  Bitcoin mining uses a TARGET value shared across all participating mining nodes, to regulate the mathematical difficulty associated with mining a new, valid BLOCK as a candidate to add to the public BTC BLOCKCHAIN. \n",
    "\n",
    "The current target is defined as a 256-bit number that all Bitcoin clients share. The SHA-256 hash of a block's header must be lower than or equal to the current target for the block to be accepted by the network. The lower the target, the more difficult it is to generate a block.\n",
    "\n",
    "There is a maximum TARGET which is an upper bound, and a current TARGET which is adjusted periodically and communicted through the working system.  Difficulty is a ratio of two TARGETS:  MAX_TARGET and CURRENT_TARGET. \n",
    "Each block stores a packed representation for its actual hexadecimal target -- BITS. \n",
    "\n",
    "The following constants are defined:\n",
    "\n",
    "    /**\n",
    "      Pooled mining defines a maximum target 28 bytes of 0xFF, and four bytes of leading zero\n",
    "      target MAX  0x00000000FFFFFFFFFFFFFFFFFFFFFFFFFFFFFFFFFFFFFFFFFFFFFFFFFFFFFFFF  # 32 bytes\n",
    "            \n",
    "       however, compact format MAX is 0x1d00FFFF => 0x00FFFF padded with (0x1d-3) 26 bytes of zero\n",
    "      target MAXp 0x00000000FFFF0000000000000000000000000000000000000000000000000000  # 32 BYTES\n",
    "   \n",
    "      Standard Calc of new difficulty using target and previous target, executed periodically in real-time\n",
    "        difficulty_NEW = difficulty_1_target / current_target\n",
    "     */\n",
    " \n",
    "    /**           code comments from:   arith_uint256.h  / bitcoind  v18\n",
    "     *\n",
    "     * The \"compact\" format is a representation of a whole\n",
    "     * number N using an unsigned 32bit number, similar to a\n",
    "     * floating point format.\n",
    "     * The most significant 8 bits are the unsigned exponent of base 256.\n",
    "     * This exponent can be thought of as \"number of bytes of N\".\n",
    "     * The lower 23 bits are the mantissa.\n",
    "     * Bit number 24 (0x800000) represents the sign of N.\n",
    "     * N = (-1^sign) * mantissa * 256^(exponent-3)\n",
    "     *    \n",
    "     * Thus:\n",
    "     *  compact(0x1234560000) = 0x05123456  ## five bytes with value of 0x123456 right-padded with zero\n",
    "     *  compact(0xc0de000000) = 0x0600c0de  ##  sign bit set, not used for target difficulty in practice\n",
    "     *\n",
    "     * Bitcoin nodes only use this \"compact\" format for encoding difficulty\n",
    "     * targets, which are unsigned 256bit quantities.  Thus, all the\n",
    "     * complexities of the sign bit and using base 256 are probably an\n",
    "     * implementation accident.\n",
    "     */\n",
    " \n",
    "    /* \n",
    "     * conversion macros in C/C++ use bit shifting to encode and decode compact values\n",
    "     *    arith_uint256 bn = *this >> 8 * (8 - 3);  // right-shift 5 bytes\n",
    "     *    \n",
    "     *    uint32_t pn[8];  // a block of eight 32 bit values to get 256 bits\n",
    "     *    GetLow64(pn) { return pn[0] | (uint64_t)pn[1] << 32; }\n",
    "     *\n",
    "     */\n",
    "   "
   ]
  },
  {
   "cell_type": "code",
   "execution_count": 3,
   "metadata": {},
   "outputs": [],
   "source": [
    "# example -- expand target  0x1b0404cb from the compact BITS form\n",
    "##  mantissa is the body of the stored value, always INTEGER\n",
    "##  exponent is a count of bytes in the result, always a positive INTEGER\n",
    "\n",
    "# compact format MAX TARGET   0x1d00ffff\n",
    "block_1_packed_exp = 0x1d\n",
    "block_1_exp =        unpack_exp( block_1_packed_exp )\n",
    "block_1_mantissa =   float(0x00ffff)\n",
    "\n",
    "# example TARGET\n",
    "packed_exp  =        0x1b     ## first byte of the compact value\n",
    "exp  =               unpack_exp( packed_exp )\n",
    "mantissa  =          float(0x000404cb)\n"
   ]
  },
  {
   "cell_type": "code",
   "execution_count": 6,
   "metadata": {},
   "outputs": [
    {
     "name": "stdout",
     "output_type": "stream",
     "text": [
      "-- bdiff -- difficulty measure \n",
      "16307.4209385\n",
      "16307.4209385\n",
      "-- pdiff -- (unused) difficulty with a slightly larger upper bound\n",
      "16307.6697738\n"
     ]
    }
   ],
   "source": [
    "## calculate 'bdiff', a block difficulty value \n",
    "\n",
    "print '-- bdiff -- difficulty measure '\n",
    "print  block_1_mantissa * 2**(block_1_exp)  / (mantissa * 2**(exp))\n",
    "\n",
    "##   add explicit parens for clarity and show that the results match\n",
    "\n",
    "print (block_1_mantissa * 2**(block_1_exp)) / (mantissa * 2**(exp))\n",
    "\n",
    "\n",
    "##  calculate 'pdiff' by using the larger max target\n",
    "print '-- pdiff -- (unused) difficulty with a slightly larger upper bound'\n",
    "print 0x00000000FFFFFFFFFFFFFFFFFFFFFFFFFFFFFFFFFFFFFFFFFFFFFFFFFFFFFFFFL / (mantissa * 2**(exp))\n"
   ]
  },
  {
   "cell_type": "code",
   "execution_count": 7,
   "metadata": {},
   "outputs": [
    {
     "name": "stdout",
     "output_type": "stream",
     "text": [
      "9.69937555549\n",
      "9.69937555549\n",
      "9.69937555549\n",
      "9.69937555549\n",
      "9.69937555549\n",
      "9.69937555549\n",
      "9.69937555549\n"
     ]
    }
   ],
   "source": [
    "## use 32bit Long Integers and base 10 logarithms to calculate difficulty\n",
    "##  note this log() technique is not needed in Python, due to \n",
    "##   built-in support for Very Long Integer math in the core language\n",
    "##  but the log() approach could be used in a low-level language like C/C++\n",
    "\n",
    "## mantissa is an INT in compact format, exponent is effectively a count of right-pad bytes\n",
    "print math.log( block_1_mantissa *  2**(block_1_exp) / (mantissa * 2**(exp)))\n",
    "#  ==  9.69937555549195\n",
    "\n",
    "##    subtracting two log values is equivalent to division\n",
    "print math.log(block_1_mantissa *  2**(block_1_exp)) - math.log(mantissa * 2**(exp))\n",
    "#  ==  9.69937555549194\n",
    "\n",
    "##    adding two log values is equivalent to multiplication\n",
    "print math.log(block_1_mantissa) + math.log(2**(block_1_exp)) - math.log(mantissa) - math.log(2**(exp))\n",
    "#  ==  9.69937555549\n",
    "\n",
    "##    log(2 to the Nth power) is equivalent to N * log(2)\n",
    "print math.log(block_1_mantissa) + (block_1_exp)* math.log(2) - math.log(mantissa) - (exp)* math.log(2)\n",
    "#  ==  9.69937555549194\n",
    "\n",
    "##    subtraction of log values is division, use algebra to combine terms\n",
    "print math.log(block_1_mantissa / mantissa) + (block_1_exp)* math.log(2) - (exp)* math.log(2)\n",
    "#  ==  9.69937555549\n",
    "\n",
    "##    show the compact format unpack_exp() expplicitly]\n",
    "print math.log(block_1_mantissa / mantissa) +(unpack_exp (block_1_packed_exp))* math.log(2) -(unpack_exp(packed_exp))* math.log(2)\n",
    "#  ==  9.69937555549\n",
    "\n",
    "##    show the extaction of bytes from compact form explicitly\n",
    "print math.log(block_1_mantissa / mantissa) + (8*(block_1_packed_exp - 3))* math.log(2) - (8*(packed_exp - 3))* math.log(2)\n",
    "#  ==  9.69937555549\n"
   ]
  },
  {
   "cell_type": "code",
   "execution_count": 8,
   "metadata": {},
   "outputs": [
    {
     "name": "stdout",
     "output_type": "stream",
     "text": [
      "0x1000000000000000000000000000000000000000000000000L\n",
      "result is of type: <type 'long'>\n",
      "bits to store for value: 193\n"
     ]
    }
   ],
   "source": [
    "## Example of python native long integer handling\n",
    "\n",
    "n0 = 2**192\n",
    "print hex( n0 )   ## 24 bytes\n",
    "print \"result is of type: %s\" % type(n0)\n",
    "print \"bits to store for value: %s\" % str(n0.bit_length())"
   ]
  },
  {
   "cell_type": "code",
   "execution_count": null,
   "metadata": {},
   "outputs": [],
   "source": []
  }
 ],
 "metadata": {
  "kernelspec": {
   "display_name": "Python 2",
   "language": "python",
   "name": "python2"
  },
  "language_info": {
   "codemirror_mode": {
    "name": "ipython",
    "version": 2
   },
   "file_extension": ".py",
   "mimetype": "text/x-python",
   "name": "python",
   "nbconvert_exporter": "python",
   "pygments_lexer": "ipython2",
   "version": "2.7.17"
  }
 },
 "nbformat": 4,
 "nbformat_minor": 2
}
