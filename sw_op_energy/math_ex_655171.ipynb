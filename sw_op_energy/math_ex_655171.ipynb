{
 "cells": [
  {
   "cell_type": "markdown",
   "metadata": {},
   "source": [
    "### Calc difficulty from TARGET values, for one test block\n",
    "\n",
    "nov20  --dbb"
   ]
  },
  {
   "cell_type": "code",
   "execution_count": 1,
   "metadata": {},
   "outputs": [
    {
     "data": {
      "text/plain": [
       "'2.7.17 (default, Jul 20 2020, 15:37:01) \\n[GCC 7.5.0]'"
      ]
     },
     "execution_count": 1,
     "metadata": {},
     "output_type": "execute_result"
    }
   ],
   "source": [
    "import os,sys\n",
    "\n",
    "sys.version"
   ]
  },
  {
   "cell_type": "markdown",
   "metadata": {},
   "source": [
    "\n",
    "\n",
    "    Block 655171  from get_block_info.py\n",
    "\n",
    "      hash:    <--- TODO read the HASH value from the massive JSON retVa, get header only?\n",
    "        --- \n",
    "      timestamp   \n",
    "        2020-11-02 20:03              TODO convert to unix time\n",
    "      difficulty:\n",
    "        19,997,335,994,446.11         0x122ffe1bc04e  (whole part)\n",
    "      bits:\n",
    "        386,798,414                   0x170e134e\n",
    "      nonce:\n",
    "        2146928391\n",
    "\n",
    "    -----------------------------------------------------------------------\n",
    "    Block 655171  from BlockChain.com\n",
    "\n",
    "    Hash\n",
    "        0000000000000000000073280c6c10e891cff6ac303d1b0d1a13bf661e01ca88\n",
    "    Confirmations\n",
    "        2\n",
    "    Timestamp\n",
    "        2020-11-02 20:03\n",
    "    Height\n",
    "        655171\n",
    "    Miner\n",
    "        F2Pool\n",
    "    Number of Transactions\n",
    "        1,387\n",
    "    Difficulty\n",
    "        19,997,335,994,446.11         0x122ffe1bc04e\n",
    "    Version\n",
    "        0x20000000\n",
    "    Bits\n",
    "        386,798,414                   0x170e134e\n",
    "    Weight\n",
    "        3,998,707 WU\n",
    "    Size\n",
    "        1,224,619 bytes\n",
    "    Nonce\n",
    "        2,146,928,391\n",
    "    Transaction Volume\n",
    "        $421,610,403.43 \n",
    "    Block Reward\n",
    "        $96,083.13\n",
    "    Fee Reward\n",
    "        $33,093.33\n",
    "    \n"
   ]
  },
  {
   "cell_type": "code",
   "execution_count": 2,
   "metadata": {},
   "outputs": [],
   "source": [
    "\n",
    "def unpack_exp(x):\n",
    "  return 8*(x - 3)\n",
    "\n",
    "# compact format MAX TARGET\n",
    "block_1_packed_exp = 0x1d\n",
    "block_1_exp =        unpack_exp( block_1_packed_exp )\n",
    "block_1_mantissa =   float(0x00ffff)\n",
    "\n"
   ]
  },
  {
   "cell_type": "code",
   "execution_count": 3,
   "metadata": {},
   "outputs": [],
   "source": [
    "## Use block 655171 example values\n",
    "\n",
    "blk_6_difficulty = 0x122ffe1bc04e\n",
    "blk_6_bits       = 0x170e134e\n",
    "\n",
    "t_exp = unpack_exp(  0x17 )  ## mask top byte and shift to the right\n",
    "t_mantissa = 0x000e134e   ## remaining lower three bytes\n",
    "\n"
   ]
  },
  {
   "cell_type": "code",
   "execution_count": 4,
   "metadata": {},
   "outputs": [
    {
     "name": "stdout",
     "output_type": "stream",
     "text": [
      "Declared difficulty : 0x122ffe1bc04e\n",
      " calc    difficulty : 1.99973359944e+13\n",
      "<type 'float'>\n"
     ]
    }
   ],
   "source": [
    "##--  calculate difficulty as a ratio of two TARGETS\n",
    "\n",
    "t_calc = (block_1_mantissa * 2**(block_1_exp)) / ( t_mantissa * 2**( t_exp))\n",
    "\n",
    "print \"Declared difficulty : \" + \"0x122ffe1bc04e\"\n",
    "print \" calc    difficulty : \" + str(t_calc)\n",
    "\n",
    "print type(t_calc)\n"
   ]
  },
  {
   "cell_type": "code",
   "execution_count": 5,
   "metadata": {},
   "outputs": [
    {
     "name": "stdout",
     "output_type": "stream",
     "text": [
      "Variable             Type        Data/Info\n",
      "------------------------------------------\n",
      "blk_6_bits           int         386798414\n",
      "blk_6_difficulty     int         19997335994446\n",
      "block_1_exp          int         208\n",
      "block_1_mantissa     float       65535.0\n",
      "block_1_packed_exp   int         29\n",
      "os                   module      <module 'os' from '/usr/lib/python2.7/os.pyc'>\n",
      "sys                  module      <module 'sys' (built-in)>\n",
      "t_calc               float       1.99973359944e+13\n",
      "t_exp                int         160\n",
      "t_mantissa           int         922446\n",
      "unpack_exp           function    <function unpack_exp at 0x7f9e147d3150>\n"
     ]
    }
   ],
   "source": [
    "%whos"
   ]
  },
  {
   "cell_type": "code",
   "execution_count": null,
   "metadata": {},
   "outputs": [],
   "source": []
  }
 ],
 "metadata": {
  "kernelspec": {
   "display_name": "Python 2",
   "language": "python",
   "name": "python2"
  },
  "language_info": {
   "codemirror_mode": {
    "name": "ipython",
    "version": 2
   },
   "file_extension": ".py",
   "mimetype": "text/x-python",
   "name": "python",
   "nbconvert_exporter": "python",
   "pygments_lexer": "ipython2",
   "version": "2.7.17"
  }
 },
 "nbformat": 4,
 "nbformat_minor": 2
}
